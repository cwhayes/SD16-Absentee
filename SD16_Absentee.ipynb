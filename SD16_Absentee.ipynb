{
 "cells": [
  {
   "cell_type": "code",
   "execution_count": 7,
   "metadata": {},
   "outputs": [],
   "source": [
    "import numpy as np\n",
    "import matplotlib.pyplot as plt\n",
    "from ipywidgets import *"
   ]
  },
  {
   "cell_type": "code",
   "execution_count": 2,
   "metadata": {},
   "outputs": [],
   "source": [
    "kunze_absentee = 43784\n",
    "kunze_eday = 58690\n",
    "\n",
    "lett_absentee = 73061\n",
    "lett_eday = 29372\n",
    "\n",
    "outstanding = 5313"
   ]
  },
  {
   "cell_type": "code",
   "execution_count": 45,
   "metadata": {},
   "outputs": [
    {
     "data": {
      "application/vnd.jupyter.widget-view+json": {
       "model_id": "ab7e1adb3c5540a6a26f533eacf0ec1c",
       "version_major": 2,
       "version_minor": 0
      },
      "text/plain": [
       "interactive(children=(IntSlider(value=50, description='percent_returned'), IntSlider(value=50, description='pe…"
      ]
     },
     "metadata": {},
     "output_type": "display_data"
    }
   ],
   "source": [
    "def election_plot(percent_returned, percent_d):\n",
    "    returned_abs = int((percent_returned / 100) * outstanding)\n",
    "    d_abs = int((percent_d / 100) * returned_abs)\n",
    "    r_abs = returned_abs - d_abs\n",
    "    \n",
    "    fig, ax = plt.subplots(figsize=(20,5))\n",
    "    plt.subplots_adjust(left=0.25, bottom=0.25)\n",
    "    ax.barh(0, kunze_absentee, color='#810000')\n",
    "    ax.barh(0, kunze_eday, left=kunze_absentee, color='#e97171')\n",
    "    ax.barh(0, r_abs, left=kunze_eday+kunze_absentee, color='#ffcb8e')\n",
    "    ax.barh(1, lett_absentee, color='#0f4c75')\n",
    "    ax.barh(1, lett_eday, left=lett_absentee, color='#3282b8')\n",
    "    ax.barh(1, d_abs, left=lett_eday+lett_absentee, color='#bbe1fa')\n",
    "    \n",
    "    ax.set_yticks([])\n",
    "    \n",
    "    kunze_total = kunze_eday + kunze_absentee + r_abs\n",
    "    lett_total = lett_eday + lett_absentee + d_abs\n",
    "    total = kunze_total + lett_total\n",
    "    \n",
    "    if( lett_total > kunze_total):\n",
    "        margin = str(int(lett_total - kunze_total))\n",
    "        percent = str('{:.2f}'.format(100 * lett_total / total))\n",
    "        ax.text(1000, 1, 'Lett Victory (' + percent + '%, Margin: ' + margin + ' votes)', fontsize=30, va='center', c='w')\n",
    "    elif( lett_total < kunze_total):\n",
    "        margin = str(int(-lett_total + kunze_total))\n",
    "        percent = str('{:.2f}'.format(100 * kunze_total / total))\n",
    "        ax.text(1000, 0, 'Kunze Victory (' + percent + '%, Margin: ' + margin + ' votes)', fontsize=30, va='center', c='w')\n",
    "    elif( lett_total == kunze_total):\n",
    "        ax.text(1000, 0, 'Tie', fontsize=30, va='center', c='w')\n",
    "        ax.text(1000, 1, 'Tie', fontsize=30, va='center', c='w')\n",
    "\n",
    "interactive_plot = interactive(election_plot, percent_returned=(0,100), percent_d=(0,100))\n",
    "output = interactive_plot.children[-1]\n",
    "output.layout.height = '350px'\n",
    "interactive_plot"
   ]
  }
 ],
 "metadata": {
  "kernelspec": {
   "display_name": "Python 3",
   "language": "python",
   "name": "python3"
  },
  "language_info": {
   "codemirror_mode": {
    "name": "ipython",
    "version": 3
   },
   "file_extension": ".py",
   "mimetype": "text/x-python",
   "name": "python",
   "nbconvert_exporter": "python",
   "pygments_lexer": "ipython3",
   "version": "3.7.3"
  }
 },
 "nbformat": 4,
 "nbformat_minor": 4
}
